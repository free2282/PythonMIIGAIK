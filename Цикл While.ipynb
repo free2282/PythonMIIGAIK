{
 "cells": [
  {
   "cell_type": "code",
   "execution_count": 1,
   "id": "61291d8f",
   "metadata": {},
   "outputs": [
    {
     "name": "stdout",
     "output_type": "stream",
     "text": [
      "3\n"
     ]
    }
   ],
   "source": [
    "#1\n",
    "def smaller_del(N):\n",
    "    dell = 2\n",
    "    while dell<=9:\n",
    "        #print(dell if N%dell==0 else dell+1)\n",
    "        if N%dell==0:\n",
    "            print(dell)\n",
    "            break\n",
    "        else:\n",
    "            dell +=1\n",
    "smaller_del(15)"
   ]
  },
  {
   "cell_type": "code",
   "execution_count": 10,
   "id": "d120d630",
   "metadata": {},
   "outputs": [
    {
     "name": "stdout",
     "output_type": "stream",
     "text": [
      "5 32\n"
     ]
    }
   ],
   "source": [
    "#2\n",
    "def N2lessX(X):\n",
    "    N = 0\n",
    "    while X>=2**N:\n",
    "        N +=1\n",
    "    print(N-1, 2**(N-1))\n",
    "    \n",
    "    \n",
    "N2lessX(50)   "
   ]
  },
  {
   "cell_type": "code",
   "execution_count": 15,
   "id": "2e13e632",
   "metadata": {},
   "outputs": [
    {
     "name": "stdout",
     "output_type": "stream",
     "text": [
      "13\n"
     ]
    }
   ],
   "source": [
    "#3\n",
    "def runner(X,Y):\n",
    "    day = 1\n",
    "    while Y>X:\n",
    "        day +=1\n",
    "        X = X + X * 0.1\n",
    "    print(day)\n",
    "runner(10, 30)"
   ]
  },
  {
   "cell_type": "code",
   "execution_count": 13,
   "id": "4ff4cd0c",
   "metadata": {},
   "outputs": [
    {
     "name": "stdout",
     "output_type": "stream",
     "text": [
      "1\n",
      "2\n",
      "3\n",
      "4\n",
      "5\n",
      "0\n",
      "Это счетчик: 4\n"
     ]
    }
   ],
   "source": [
    "#4\n",
    "\n",
    "def sequence():\n",
    "    datastore = []\n",
    "    input_data = int(input())\n",
    "    datastore.append(input_data)\n",
    "    while input_data != 0:\n",
    "        input_data = int(input())\n",
    "        datastore.append(input_data)\n",
    "    counter = 0\n",
    "    for i in range(1, len(datastore)):\n",
    "        if datastore[i] > datastore[i-1]:\n",
    "            counter +=1\n",
    "    print(f'Это счетчик: {counter}')\n",
    "        \n",
    "sequence()"
   ]
  },
  {
   "cell_type": "code",
   "execution_count": 17,
   "id": "9b91ebf4",
   "metadata": {},
   "outputs": [
    {
     "name": "stdout",
     "output_type": "stream",
     "text": [
      "1\n",
      "4\n",
      "9\n",
      "16\n",
      "25\n",
      "36\n",
      "49\n"
     ]
    }
   ],
   "source": [
    "#5\n",
    "def square(N):\n",
    "    i=0\n",
    "    while i**2<= N:\n",
    "        i = i + 1\n",
    "        if i**2 > N:\n",
    "            break\n",
    "        print(i**2)\n",
    "square(50)"
   ]
  },
  {
   "cell_type": "code",
   "execution_count": 33,
   "id": "c4b79e0f",
   "metadata": {},
   "outputs": [
    {
     "name": "stdout",
     "output_type": "stream",
     "text": [
      "6\n",
      "[(1, 1), 2, 3, 5, 8, 13, 21, 34, 55]\n",
      "___________\n",
      "-1\n",
      "[(1, 1), 2, 3, 5, 8, 13, 21, 34, 55, 89, 144]\n"
     ]
    }
   ],
   "source": [
    "#6\n",
    "def fibbonacci(N):\n",
    "    i=0\n",
    "    f1, f2 = 1, 1\n",
    "    ListLabel = []\n",
    "    ListLabel.append((f1, f2))\n",
    "    while i < N :\n",
    "        fib_sum = f1 + f2\n",
    "        f1 = f2\n",
    "        f2 = fib_sum\n",
    "        ListLabel.append(fib_sum)\n",
    "        i = i + 1\n",
    "    print(i-2 if N in ListLabel else -1)\n",
    "    print(ListLabel)\n",
    "fibbonacci(8)\n",
    "print('___________')\n",
    "fibbonacci(10)"
   ]
  },
  {
   "cell_type": "code",
   "execution_count": 37,
   "id": "29596a2a",
   "metadata": {},
   "outputs": [
    {
     "name": "stdout",
     "output_type": "stream",
     "text": [
      "8\n",
      "[(1, 1), 2, 3, 5, 8]\n",
      "___________\n"
     ]
    }
   ],
   "source": [
    "#7\n",
    "def fibbonacci2(N): #где N - номер числа\n",
    "    i=0\n",
    "    f1, f2 = 1, 1\n",
    "    ListLabel = []\n",
    "    ListLabel.append((f1, f2))\n",
    "    while i < N - 2:\n",
    "        fib_sum = f1 + f2\n",
    "        f1 = f2\n",
    "        f2 = fib_sum\n",
    "        ListLabel.append(fib_sum)\n",
    "        i = i + 1\n",
    "    print(fib_sum)\n",
    "    print(ListLabel)\n",
    "fibbonacci2(6)\n",
    "print('___________')\n"
   ]
  },
  {
   "cell_type": "code",
   "execution_count": 26,
   "id": "ab6f6e99",
   "metadata": {},
   "outputs": [
    {
     "name": "stdout",
     "output_type": "stream",
     "text": [
      "1\n",
      "2\n",
      "3\n",
      "3\n",
      "3\n",
      "3\n",
      "3\n",
      "4\n",
      "0\n",
      "Это счетчик: 3\n"
     ]
    }
   ],
   "source": [
    "#8 доделать\n",
    "def leonger():\n",
    "    datastore = []\n",
    "    input_data = int(input())\n",
    "    datastore.append(input_data)\n",
    "    while input_data != 0:\n",
    "        input_data = int(input())\n",
    "        datastore.append(input_data)\n",
    "    counter = 0\n",
    "    flag = 0\n",
    "    for i in range(len(1, datastore)):\n",
    "        if (datastore[i+1] == datastore[i])or(datastore[i-1] == datastore[i]):\n",
    "            counter +=1\n",
    "            if counter > flag:\n",
    "                flag = counter\n",
    "                counter=0\n",
    "    print(f'Число одинакоых в последовательности чисел: {flag}')\n",
    "        \n",
    "sequence()"
   ]
  },
  {
   "cell_type": "code",
   "execution_count": null,
   "id": "06978928",
   "metadata": {},
   "outputs": [],
   "source": []
  }
 ],
 "metadata": {
  "kernelspec": {
   "display_name": "Python 3 (ipykernel)",
   "language": "python",
   "name": "python3"
  },
  "language_info": {
   "codemirror_mode": {
    "name": "ipython",
    "version": 3
   },
   "file_extension": ".py",
   "mimetype": "text/x-python",
   "name": "python",
   "nbconvert_exporter": "python",
   "pygments_lexer": "ipython3",
   "version": "3.9.12"
  }
 },
 "nbformat": 4,
 "nbformat_minor": 5
}
