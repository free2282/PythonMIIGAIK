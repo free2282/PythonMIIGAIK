{
 "cells": [
  {
   "cell_type": "code",
   "execution_count": 47,
   "id": "77cb4e14",
   "metadata": {},
   "outputs": [
    {
     "name": "stdout",
     "output_type": "stream",
     "text": [
      "2\n"
     ]
    }
   ],
   "source": [
    "#1r\n",
    "def word_counter(input_word):\n",
    "    counter = 1\n",
    "    cou\n",
    "    for word in range(len(input_word)):\n",
    "        if input_word[word]==' ':\n",
    "            counter +=1\n",
    "    print(counter)\n",
    "word_counter('first_word second_word')                   "
   ]
  },
  {
   "cell_type": "code",
   "execution_count": 48,
   "id": "c14efcff",
   "metadata": {},
   "outputs": [
    {
     "name": "stdout",
     "output_type": "stream",
     "text": [
      "World! Hello\n"
     ]
    }
   ],
   "source": [
    "#2r\n",
    "def swap_word(input_word):\n",
    "    word = input_word.split()\n",
    "    print(word[-1], word[0])\n",
    "swap_word('Hello World!')"
   ]
  },
  {
   "cell_type": "code",
   "execution_count": 49,
   "id": "6f282b8a",
   "metadata": {},
   "outputs": [
    {
     "name": "stdout",
     "output_type": "stream",
     "text": [
      "1\n",
      "6\n"
     ]
    }
   ],
   "source": [
    "#3\n",
    "def f_counter(input_word):\n",
    "    f = 'f'\n",
    "    counter = 0\n",
    "    f_counter_in_list = 0\n",
    "    list_word = ' '.join(input_word).split()\n",
    "    for word in range(len(list_word)):\n",
    "        if list_word[word] == 'f':\n",
    "            f_counter_in_list +=1\n",
    "            \n",
    "    for word in range(len(list_word)):\n",
    "        if list_word[word] == f:\n",
    "            f_place = str(word)\n",
    "            print(f_place)\n",
    "            counter +=1\n",
    "            break\n",
    "    if f_counter_in_list != 1:       \n",
    "        for word in reversed(range(len(list_word))):\n",
    "            if list_word[word] == f:\n",
    "                f_place = str(word)\n",
    "                print(f_place)\n",
    "                counter +=1\n",
    "                break\n",
    "    if counter == 0:\n",
    "        print(-1) \n",
    "f_counter('office f')"
   ]
  },
  {
   "cell_type": "code",
   "execution_count": 50,
   "id": "6dee8bb0",
   "metadata": {},
   "outputs": [
    {
     "name": "stdout",
     "output_type": "stream",
     "text": [
      "one+one=2\n"
     ]
    }
   ],
   "source": [
    "#4r\n",
    "def one_to_one(input_word):\n",
    "    print(input_word.replace('1', 'one'))\n",
    "one_to_one('1+1=2')"
   ]
  },
  {
   "cell_type": "code",
   "execution_count": 6,
   "id": "3b3d7c85",
   "metadata": {},
   "outputs": [
    {
     "name": "stdout",
     "output_type": "stream",
     "text": [
      "\"qwemail.ru\n"
     ]
    }
   ],
   "source": [
    "#5r\n",
    "def del_mail(input_word):\n",
    "    counter = 0\n",
    "    list_word = ' '.join(input_word).split()\n",
    "    for word in range(len(list_word)):\n",
    "        if list_word[word] == '@':\n",
    "            counter +=1\n",
    "    for i in range(counter):\n",
    "        list_word.remove('@')\n",
    "        \n",
    "    print(''.join(list_word))\n",
    "          \n",
    "          \n",
    "del_mail('@qwe@mail@.ru')                   "
   ]
  }
 ],
 "metadata": {
  "kernelspec": {
   "display_name": "Python 3 (ipykernel)",
   "language": "python",
   "name": "python3"
  },
  "language_info": {
   "codemirror_mode": {
    "name": "ipython",
    "version": 3
   },
   "file_extension": ".py",
   "mimetype": "text/x-python",
   "name": "python",
   "nbconvert_exporter": "python",
   "pygments_lexer": "ipython3",
   "version": "3.9.12"
  }
 },
 "nbformat": 4,
 "nbformat_minor": 5
}
