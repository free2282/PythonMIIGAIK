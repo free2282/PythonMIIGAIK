{
 "cells": [
  {
   "cell_type": "code",
   "execution_count": 68,
   "id": "89800a3b",
   "metadata": {},
   "outputs": [
    {
     "name": "stdout",
     "output_type": "stream",
     "text": [
      "['Рейс', '365', 'прибыл', 'из', 'Сасово', 'в', '12:56:30'] тест0\n",
      "['сообщение', 'получено', 'в', '12:57:20'] тест1\n",
      "['Сохранено', 'в', 'базу', 'данных'] тест2\n",
      "['Рейс', '452', 'прибыл', 'в', 'Сочи', 'в', '13:04:22'] тест3\n",
      "['сообщение', 'получено', 'в', '13:11:32'] тест4\n",
      "['Ошибка', 'записи', 'в', 'базу', 'данных'] тест5\n"
     ]
    }
   ],
   "source": [
    "def practikum5(account_book, DataStorage):\n",
    "    account_book = open(account_book, 'r+', encoding='UTF-8')\n",
    "    DataStorage = open(DataStorage, 'r+', encoding='UTF-8')\n",
    "    \n",
    "    try:\n",
    "        text1 = account_book.readlines()\n",
    "        \n",
    "        for i in range(len(text1)):\n",
    "            text1[i] = text1[i].split()\n",
    "            print(text1[i], f'тест{i}')\n",
    "            for j in range(len(text1[i])):\n",
    "                if text1[i][j]=='Рейс':\n",
    "                    Number_Race = text1[i][j+1]\n",
    "                    pretext = text1[i][j+3]\n",
    "                    city = text1[i][j+4]\n",
    "                    time = text1[i][j+6]\n",
    "                    message = f\"[{time}] - Поезд № {Number_Race} {pretext} {city} \\n\"\n",
    "                    DataStorage.write(message)\n",
    "                \n",
    "    finally:\n",
    "        account_book.close()\n",
    "        \n",
    "practikum5('Практикум5Журнал.txt', 'Практикум5Storage.txt')"
   ]
  },
  {
   "cell_type": "code",
   "execution_count": 64,
   "id": "a41bcec3",
   "metadata": {},
   "outputs": [
    {
     "data": {
      "text/plain": [
       "True"
      ]
     },
     "execution_count": 64,
     "metadata": {},
     "output_type": "execute_result"
    }
   ],
   "source": [
    "\n",
    "b = ['365', '123']\n",
    "'365'== b[0]"
   ]
  },
  {
   "cell_type": "code",
   "execution_count": null,
   "id": "f1a14427",
   "metadata": {},
   "outputs": [],
   "source": []
  }
 ],
 "metadata": {
  "kernelspec": {
   "display_name": "Python 3 (ipykernel)",
   "language": "python",
   "name": "python3"
  },
  "language_info": {
   "codemirror_mode": {
    "name": "ipython",
    "version": 3
   },
   "file_extension": ".py",
   "mimetype": "text/x-python",
   "name": "python",
   "nbconvert_exporter": "python",
   "pygments_lexer": "ipython3",
   "version": "3.9.12"
  }
 },
 "nbformat": 4,
 "nbformat_minor": 5
}
