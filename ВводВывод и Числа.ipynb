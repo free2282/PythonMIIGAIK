{
 "cells": [
  {
   "cell_type": "code",
   "execution_count": 17,
   "id": "21aabd75",
   "metadata": {},
   "outputs": [
    {
     "name": "stdout",
     "output_type": "stream",
     "text": [
      "1\n",
      "2\n",
      "3\n",
      "6\n"
     ]
    }
   ],
   "source": [
    "#1\n",
    "a = int(input())\n",
    "b = int(input())\n",
    "c = int(input())\n",
    "print(a + b + c)"
   ]
  },
  {
   "cell_type": "code",
   "execution_count": 18,
   "id": "fdcb983e",
   "metadata": {},
   "outputs": [
    {
     "name": "stdout",
     "output_type": "stream",
     "text": [
      "150.0\n"
     ]
    }
   ],
   "source": [
    "#2\n",
    "def Square(k1, k2):\n",
    "    S = (k1 * k2) / 2\n",
    "    return S\n",
    "ABC = Square(10, 30) \n",
    "print(ABC)"
   ]
  },
  {
   "cell_type": "code",
   "execution_count": 19,
   "id": "b34f8251",
   "metadata": {},
   "outputs": [
    {
     "name": "stdout",
     "output_type": "stream",
     "text": [
      "Hello, John\n"
     ]
    }
   ],
   "source": [
    "#3\n",
    "def Hello_Name(Name):\n",
    "    print(f\"Hello, {Name}\")\n",
    "\n",
    "Hello_Name('John')"
   ]
  },
  {
   "cell_type": "code",
   "execution_count": 20,
   "id": "f05ae4a0",
   "metadata": {},
   "outputs": [
    {
     "name": "stdout",
     "output_type": "stream",
     "text": [
      "Предыдущее ичсло для числа 10:9\n",
      "Следующее ичсло для числа 10:11\n"
     ]
    }
   ],
   "source": [
    "#4\n",
    "def prev_and_next(this_number)->int:\n",
    "    print(f\"Предыдущее ичсло для числа {this_number}:{this_number-1}\")\n",
    "    print(f\"Следующее ичсло для числа {this_number}:{this_number+1}\")\n",
    "prev_and_next(10)"
   ]
  },
  {
   "cell_type": "code",
   "execution_count": 21,
   "id": "c388b1d1",
   "metadata": {},
   "outputs": [
    {
     "name": "stdout",
     "output_type": "stream",
     "text": [
      "Яблок у студентов:8, в корзине:2\n"
     ]
    }
   ],
   "source": [
    "#5\n",
    "def Equal_apple(Student, Apple):\n",
    "    remains = Apple%Student\n",
    "    Students_apple = Apple//Student\n",
    "    print(f\"Яблок у студентов:{Students_apple}, в корзине:{remains}\")\n",
    "Equal_apple(6, 50)"
   ]
  },
  {
   "cell_type": "code",
   "execution_count": 22,
   "id": "99351cc9",
   "metadata": {},
   "outputs": [
    {
     "name": "stdout",
     "output_type": "stream",
     "text": [
      "1 65.0\n"
     ]
    }
   ],
   "source": [
    "#6\n",
    "def after_nightmare(N)->float:\n",
    "    print(N//3600, N/60)\n",
    "after_nightmare(3900)"
   ]
  },
  {
   "cell_type": "code",
   "execution_count": 23,
   "id": "91e8e3f6",
   "metadata": {},
   "outputs": [
    {
     "name": "stdout",
     "output_type": "stream",
     "text": [
      "3661\n"
     ]
    }
   ],
   "source": [
    "#7\n",
    "def Times(Hour1, Min1, Sec1, Hour2, Min2, Sec2):\n",
    "    dif = (Hour2 * 3600 + Min2 * 60 + Sec2) - (Hour1 * 3600 + Min1 * 60 + Sec1)\n",
    "    print(dif)\n",
    "Times(1,1,1,2,2,2)"
   ]
  },
  {
   "cell_type": "code",
   "execution_count": 24,
   "id": "da9bfe36",
   "metadata": {},
   "outputs": [
    {
     "name": "stdout",
     "output_type": "stream",
     "text": [
      "9 7\n"
     ]
    }
   ],
   "source": [
    "#1\n",
    "def right_left_number(Number):\n",
    "    print(Number%10, Number//10)\n",
    "    \n",
    "right_left_number(79)"
   ]
  },
  {
   "cell_type": "code",
   "execution_count": 26,
   "id": "fbee494f",
   "metadata": {},
   "outputs": [
    {
     "name": "stdout",
     "output_type": "stream",
     "text": [
      "97\n"
     ]
    }
   ],
   "source": [
    "#2\n",
    "def swap_number(Number):\n",
    "    print(str(Number%10)+ str(Number//10))\n",
    "swap_number(79)"
   ]
  },
  {
   "cell_type": "code",
   "execution_count": 27,
   "id": "f5e524c4",
   "metadata": {},
   "outputs": [
    {
     "name": "stdout",
     "output_type": "stream",
     "text": [
      "10\n"
     ]
    }
   ],
   "source": [
    "#3\n",
    "def two_last_num(N):\n",
    "    print(N%100)\n",
    "two_last_num(1010)"
   ]
  },
  {
   "cell_type": "code",
   "execution_count": 28,
   "id": "9fb2f092",
   "metadata": {},
   "outputs": [
    {
     "name": "stdout",
     "output_type": "stream",
     "text": [
      "3\n"
     ]
    }
   ],
   "source": [
    "#4\n",
    "def tenth_num(Num):\n",
    "    Num = Num//10\n",
    "    print(Num%10)\n",
    "tenth_num(1234)"
   ]
  },
  {
   "cell_type": "code",
   "execution_count": 29,
   "id": "8de5ebcd",
   "metadata": {},
   "outputs": [
    {
     "name": "stdout",
     "output_type": "stream",
     "text": [
      "6\n"
     ]
    }
   ],
   "source": [
    "#5\n",
    "def sum(N):\n",
    "    N1 = N//100 #1\n",
    "    N = N%100 #3\n",
    "    N2 = N%10\n",
    "    N3 = N//10 \n",
    "    print(N1 + N2 + N3)\n",
    "sum(123)"
   ]
  },
  {
   "cell_type": "code",
   "execution_count": 30,
   "id": "37c1d7d0",
   "metadata": {},
   "outputs": [
    {
     "name": "stdout",
     "output_type": "stream",
     "text": [
      "7\n"
     ]
    }
   ],
   "source": [
    "#6\n",
    "def R_num(N)->float:\n",
    "    print(int(N * 10) % 10)\n",
    "R_num(1.79)"
   ]
  },
  {
   "cell_type": "code",
   "execution_count": 31,
   "id": "3ec0c352",
   "metadata": {},
   "outputs": [
    {
     "name": "stdout",
     "output_type": "stream",
     "text": [
      "21\n"
     ]
    }
   ],
   "source": [
    "#7\n",
    "def year(N):\n",
    "    print(N//100 + 1)\n",
    "year(2000)"
   ]
  },
  {
   "cell_type": "code",
   "execution_count": 32,
   "id": "f5691642",
   "metadata": {},
   "outputs": [
    {
     "name": "stdout",
     "output_type": "stream",
     "text": [
      "0\n"
     ]
    }
   ],
   "source": [
    "#8\n",
    "def day_of_eyar(N):\n",
    "    print((N+3)%7)\n",
    "day_of_eyar(4)"
   ]
  },
  {
   "cell_type": "code",
   "execution_count": 33,
   "id": "82eae90b",
   "metadata": {},
   "outputs": [
    {
     "name": "stdout",
     "output_type": "stream",
     "text": [
      "2 : 30\n"
     ]
    }
   ],
   "source": [
    "#9\n",
    "def min_after_nightmare(N):\n",
    "    count_of_hours = N // 60\n",
    "    count_of_min = N % 60\n",
    "    print(f\"{count_of_hours} : {count_of_min}\")\n",
    "min_after_nightmare(150)"
   ]
  },
  {
   "cell_type": "code",
   "execution_count": 34,
   "id": "62a0d70e",
   "metadata": {},
   "outputs": [
    {
     "name": "stdout",
     "output_type": "stream",
     "text": [
      "32\n"
     ]
    }
   ],
   "source": [
    "#10\n",
    "def table_for_pupil(a, b, c):\n",
    "    count = (a+b+c)//2\n",
    "    rez = count + 1 if count%2 == 1 else count%2==0\n",
    "    print(rez)\n",
    "table_for_pupil(20, 21, 22)"
   ]
  },
  {
   "cell_type": "code",
   "execution_count": 35,
   "id": "8cd65f53",
   "metadata": {},
   "outputs": [
    {
     "name": "stdout",
     "output_type": "stream",
     "text": [
      "32\n"
     ]
    }
   ],
   "source": [
    "def table_for_pupil2(a, b, c):\n",
    "    count = (a+b+c)/2\n",
    "    print(round(count))\n",
    "table_for_pupil(20,21,22)"
   ]
  },
  {
   "cell_type": "code",
   "execution_count": 36,
   "id": "c3376519",
   "metadata": {},
   "outputs": [
    {
     "name": "stdout",
     "output_type": "stream",
     "text": [
      "32\n"
     ]
    }
   ],
   "source": [
    "def table_for_pupil3(a, b, c):\n",
    "    print (a//2 + b //2 + c//2 + a%2 + b%2 +c%2)\n",
    "table_for_pupil3(20, 21, 22)"
   ]
  }
 ],
 "metadata": {
  "kernelspec": {
   "display_name": "Python 3 (ipykernel)",
   "language": "python",
   "name": "python3"
  },
  "language_info": {
   "codemirror_mode": {
    "name": "ipython",
    "version": 3
   },
   "file_extension": ".py",
   "mimetype": "text/x-python",
   "name": "python",
   "nbconvert_exporter": "python",
   "pygments_lexer": "ipython3",
   "version": "3.9.12"
  }
 },
 "nbformat": 4,
 "nbformat_minor": 5
}
