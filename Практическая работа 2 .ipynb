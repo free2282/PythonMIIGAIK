{
 "cells": [
  {
   "cell_type": "code",
   "execution_count": 10,
   "id": "59d39c44",
   "metadata": {},
   "outputs": [
    {
     "data": {
      "text/html": [
       "<div>\n",
       "<style scoped>\n",
       "    .dataframe tbody tr th:only-of-type {\n",
       "        vertical-align: middle;\n",
       "    }\n",
       "\n",
       "    .dataframe tbody tr th {\n",
       "        vertical-align: top;\n",
       "    }\n",
       "\n",
       "    .dataframe thead th {\n",
       "        text-align: right;\n",
       "    }\n",
       "</style>\n",
       "<table border=\"1\" class=\"dataframe\">\n",
       "  <thead>\n",
       "    <tr style=\"text-align: right;\">\n",
       "      <th></th>\n",
       "      <th>isbn</th>\n",
       "      <th>title</th>\n",
       "      <th>author</th>\n",
       "      <th>quantity</th>\n",
       "      <th>price</th>\n",
       "      <th>id</th>\n",
       "    </tr>\n",
       "  </thead>\n",
       "  <tbody>\n",
       "    <tr>\n",
       "      <th>0</th>\n",
       "      <td>978-1-43545-500-9</td>\n",
       "      <td>Python Programming for the Absolute Beginner</td>\n",
       "      <td>Michael Dawson</td>\n",
       "      <td>10</td>\n",
       "      <td>18.90</td>\n",
       "      <td>0</td>\n",
       "    </tr>\n",
       "    <tr>\n",
       "      <th>1</th>\n",
       "      <td>978-0-59600-372-2</td>\n",
       "      <td>XSLT Cookbooks</td>\n",
       "      <td>Sai Mangano</td>\n",
       "      <td>15</td>\n",
       "      <td>34.60</td>\n",
       "      <td>1</td>\n",
       "    </tr>\n",
       "    <tr>\n",
       "      <th>2</th>\n",
       "      <td>978-0-32168-056-3</td>\n",
       "      <td>Programming in Python 3</td>\n",
       "      <td>Mark Summerfield</td>\n",
       "      <td>8</td>\n",
       "      <td>27.80</td>\n",
       "      <td>2</td>\n",
       "    </tr>\n",
       "    <tr>\n",
       "      <th>3</th>\n",
       "      <td>978-1-144935-573-9</td>\n",
       "      <td>Learning Python</td>\n",
       "      <td>Mark Lutz</td>\n",
       "      <td>21</td>\n",
       "      <td>34.20</td>\n",
       "      <td>3</td>\n",
       "    </tr>\n",
       "    <tr>\n",
       "      <th>4</th>\n",
       "      <td>978-0-47178-597-2</td>\n",
       "      <td>Ajax for Dummies</td>\n",
       "      <td>Steve Holzner</td>\n",
       "      <td>32</td>\n",
       "      <td>11.80</td>\n",
       "      <td>4</td>\n",
       "    </tr>\n",
       "    <tr>\n",
       "      <th>5</th>\n",
       "      <td>978-1-78439-700-5</td>\n",
       "      <td>Mastering Python Networking</td>\n",
       "      <td>Eric Chou</td>\n",
       "      <td>23</td>\n",
       "      <td>31.49</td>\n",
       "      <td>5</td>\n",
       "    </tr>\n",
       "    <tr>\n",
       "      <th>6</th>\n",
       "      <td>978-8-59037-986-7</td>\n",
       "      <td>programming in Lua</td>\n",
       "      <td>Roberto Ierasalimschy</td>\n",
       "      <td>12</td>\n",
       "      <td>37.10</td>\n",
       "      <td>6</td>\n",
       "    </tr>\n",
       "    <tr>\n",
       "      <th>7</th>\n",
       "      <td>978-1-78439-658-9</td>\n",
       "      <td>Machine Learning in Java</td>\n",
       "      <td>Bostjan kaluza</td>\n",
       "      <td>45</td>\n",
       "      <td>34.99</td>\n",
       "      <td>7</td>\n",
       "    </tr>\n",
       "  </tbody>\n",
       "</table>\n",
       "</div>"
      ],
      "text/plain": [
       "                 isbn                                         title  \\\n",
       "0   978-1-43545-500-9  Python Programming for the Absolute Beginner   \n",
       "1   978-0-59600-372-2                                XSLT Cookbooks   \n",
       "2   978-0-32168-056-3                       Programming in Python 3   \n",
       "3  978-1-144935-573-9                               Learning Python   \n",
       "4   978-0-47178-597-2                              Ajax for Dummies   \n",
       "5   978-1-78439-700-5                   Mastering Python Networking   \n",
       "6   978-8-59037-986-7                            programming in Lua   \n",
       "7   978-1-78439-658-9                      Machine Learning in Java   \n",
       "\n",
       "                  author  quantity  price  id  \n",
       "0         Michael Dawson        10  18.90   0  \n",
       "1            Sai Mangano        15  34.60   1  \n",
       "2       Mark Summerfield         8  27.80   2  \n",
       "3              Mark Lutz        21  34.20   3  \n",
       "4          Steve Holzner        32  11.80   4  \n",
       "5              Eric Chou        23  31.49   5  \n",
       "6  Roberto Ierasalimschy        12  37.10   6  \n",
       "7         Bostjan kaluza        45  34.99   7  "
      ]
     },
     "execution_count": 10,
     "metadata": {},
     "output_type": "execute_result"
    }
   ],
   "source": [
    "import pandas as pd\n",
    "data = pd.read_csv('Практическая работа №2.csv', delimiter='|')\n",
    "data['id'] = [i for i in range(len(data.isbn))]\n",
    "data"
   ]
  },
  {
   "cell_type": "code",
   "execution_count": 11,
   "id": "b2ac0836",
   "metadata": {},
   "outputs": [
    {
     "name": "stderr",
     "output_type": "stream",
     "text": [
      "C:\\Users\\Дмитрий\\AppData\\Local\\Temp\\ipykernel_15932\\773968782.py:4: SettingWithCopyWarning: \n",
      "A value is trying to be set on a copy of a slice from a DataFrame\n",
      "\n",
      "See the caveats in the documentation: https://pandas.pydata.org/pandas-docs/stable/user_guide/indexing.html#returning-a-view-versus-a-copy\n",
      "  data[NameColumn][i] = data[NameColumn][i].split()\n",
      "C:\\Users\\Дмитрий\\AppData\\Local\\Temp\\ipykernel_15932\\773968782.py:9: SettingWithCopyWarning: \n",
      "A value is trying to be set on a copy of a slice from a DataFrame\n",
      "\n",
      "See the caveats in the documentation: https://pandas.pydata.org/pandas-docs/stable/user_guide/indexing.html#returning-a-view-versus-a-copy\n",
      "  data[NameColumn][i] = ' '.join(data[NameColumn][i])\n"
     ]
    },
    {
     "name": "stdout",
     "output_type": "stream",
     "text": [
      "['Python', 'Programming', 'for', 'the', 'Absolute', 'Beginner']\n",
      "['Programming', 'in', 'Python', '3']\n",
      "['Learning', 'Python']\n",
      "['Mastering', 'Python', 'Networking']\n"
     ]
    },
    {
     "data": {
      "text/plain": [
       "[isbn                                        978-1-43545-500-9\n",
       " title       [Python, Programming, for, the, Absolute, Begi...\n",
       " author                                         Michael Dawson\n",
       " quantity                                                   10\n",
       " price                                                    18.9\n",
       " id                                                          0\n",
       " Name: 0, dtype: object,\n",
       " isbn                   978-0-32168-056-3\n",
       " title       [Programming, in, Python, 3]\n",
       " author                  Mark Summerfield\n",
       " quantity                               8\n",
       " price                               27.8\n",
       " id                                     2\n",
       " Name: 2, dtype: object,\n",
       " isbn        978-1-144935-573-9\n",
       " title       [Learning, Python]\n",
       " author               Mark Lutz\n",
       " quantity                    21\n",
       " price                     34.2\n",
       " id                           3\n",
       " Name: 3, dtype: object,\n",
       " isbn                      978-1-78439-700-5\n",
       " title       [Mastering, Python, Networking]\n",
       " author                            Eric Chou\n",
       " quantity                                 23\n",
       " price                                 31.49\n",
       " id                                        5\n",
       " Name: 5, dtype: object]"
      ]
     },
     "execution_count": 11,
     "metadata": {},
     "output_type": "execute_result"
    }
   ],
   "source": [
    "def get_books(NameColumn,NameElement):\n",
    "    listok = []\n",
    "    for i in range(len(data[NameColumn])):\n",
    "        data[NameColumn][i] = data[NameColumn][i].split()\n",
    "        for j in range(len(data[NameColumn][i])):\n",
    "            if data[NameColumn][i][j] == NameElement:\n",
    "                listok.append(data.iloc[i])\n",
    "                print(data[NameColumn][i])\n",
    "        data[NameColumn][i] = ' '.join(data[NameColumn][i])\n",
    "  #  print(listok)\n",
    "    return listok\n",
    "get_books('title', 'Python')"
   ]
  },
  {
   "cell_type": "code",
   "execution_count": 14,
   "id": "0cf12ca8",
   "metadata": {},
   "outputs": [
    {
     "name": "stderr",
     "output_type": "stream",
     "text": [
      "C:\\Users\\Дмитрий\\AppData\\Local\\Temp\\ipykernel_15932\\773968782.py:4: SettingWithCopyWarning: \n",
      "A value is trying to be set on a copy of a slice from a DataFrame\n",
      "\n",
      "See the caveats in the documentation: https://pandas.pydata.org/pandas-docs/stable/user_guide/indexing.html#returning-a-view-versus-a-copy\n",
      "  data[NameColumn][i] = data[NameColumn][i].split()\n",
      "C:\\Users\\Дмитрий\\AppData\\Local\\Temp\\ipykernel_15932\\773968782.py:9: SettingWithCopyWarning: \n",
      "A value is trying to be set on a copy of a slice from a DataFrame\n",
      "\n",
      "See the caveats in the documentation: https://pandas.pydata.org/pandas-docs/stable/user_guide/indexing.html#returning-a-view-versus-a-copy\n",
      "  data[NameColumn][i] = ' '.join(data[NameColumn][i])\n"
     ]
    },
    {
     "name": "stdout",
     "output_type": "stream",
     "text": [
      "['Python', 'Programming', 'for', 'the', 'Absolute', 'Beginner']\n",
      "['Programming', 'in', 'Python', '3']\n",
      "['Learning', 'Python']\n",
      "['Mastering', 'Python', 'Networking']\n"
     ]
    }
   ],
   "source": [
    "def get_totals(lst):\n",
    "    \n",
    "    new_df = pd.DataFrame(lst)\n",
    "    new_df['price_of_quantity'] = new_df.quantity * new_df.price\n",
    "    new_df = new_df.drop(columns=new_df.iloc[:, 1:6])\n",
    "    new_df['price_of_quantity'].mask(new_df['price_of_quantity'] <500, new_df.price_of_quantity + 100, inplace=True)\n",
    "    return new_df\n",
    "df = get_totals(get_books('title', 'Python'))"
   ]
  },
  {
   "cell_type": "code",
   "execution_count": 15,
   "id": "4817b181",
   "metadata": {},
   "outputs": [
    {
     "data": {
      "text/html": [
       "<div>\n",
       "<style scoped>\n",
       "    .dataframe tbody tr th:only-of-type {\n",
       "        vertical-align: middle;\n",
       "    }\n",
       "\n",
       "    .dataframe tbody tr th {\n",
       "        vertical-align: top;\n",
       "    }\n",
       "\n",
       "    .dataframe thead th {\n",
       "        text-align: right;\n",
       "    }\n",
       "</style>\n",
       "<table border=\"1\" class=\"dataframe\">\n",
       "  <thead>\n",
       "    <tr style=\"text-align: right;\">\n",
       "      <th></th>\n",
       "      <th>isbn</th>\n",
       "      <th>price_of_quantity</th>\n",
       "    </tr>\n",
       "  </thead>\n",
       "  <tbody>\n",
       "    <tr>\n",
       "      <th>0</th>\n",
       "      <td>978-1-43545-500-9</td>\n",
       "      <td>289.00</td>\n",
       "    </tr>\n",
       "    <tr>\n",
       "      <th>2</th>\n",
       "      <td>978-0-32168-056-3</td>\n",
       "      <td>322.40</td>\n",
       "    </tr>\n",
       "    <tr>\n",
       "      <th>3</th>\n",
       "      <td>978-1-144935-573-9</td>\n",
       "      <td>718.20</td>\n",
       "    </tr>\n",
       "    <tr>\n",
       "      <th>5</th>\n",
       "      <td>978-1-78439-700-5</td>\n",
       "      <td>724.27</td>\n",
       "    </tr>\n",
       "  </tbody>\n",
       "</table>\n",
       "</div>"
      ],
      "text/plain": [
       "                 isbn  price_of_quantity\n",
       "0   978-1-43545-500-9             289.00\n",
       "2   978-0-32168-056-3             322.40\n",
       "3  978-1-144935-573-9             718.20\n",
       "5   978-1-78439-700-5             724.27"
      ]
     },
     "execution_count": 15,
     "metadata": {},
     "output_type": "execute_result"
    }
   ],
   "source": [
    "df"
   ]
  },
  {
   "cell_type": "code",
   "execution_count": null,
   "id": "1f286aa8",
   "metadata": {},
   "outputs": [],
   "source": []
  },
  {
   "cell_type": "code",
   "execution_count": null,
   "id": "d87741b7",
   "metadata": {},
   "outputs": [],
   "source": []
  }
 ],
 "metadata": {
  "kernelspec": {
   "display_name": "Python 3 (ipykernel)",
   "language": "python",
   "name": "python3"
  },
  "language_info": {
   "codemirror_mode": {
    "name": "ipython",
    "version": 3
   },
   "file_extension": ".py",
   "mimetype": "text/x-python",
   "name": "python",
   "nbconvert_exporter": "python",
   "pygments_lexer": "ipython3",
   "version": "3.9.12"
  }
 },
 "nbformat": 4,
 "nbformat_minor": 5
}
