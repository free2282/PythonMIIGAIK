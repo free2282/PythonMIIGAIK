{
 "cells": [
  {
   "cell_type": "code",
   "execution_count": 33,
   "id": "c2b26a6a",
   "metadata": {},
   "outputs": [
    {
     "data": {
      "text/plain": [
       "(3, [12, 23, 42])"
      ]
     },
     "execution_count": 33,
     "metadata": {},
     "output_type": "execute_result"
    }
   ],
   "source": [
    "def practikum4(Name):\n",
    "    file = open(Name, 'r', encoding='UTF-8')\n",
    "    try:\n",
    "        text = file.read()\n",
    "        text = text.split()\n",
    "        for i in range(len(text)):\n",
    "            text[i] = int(text[i])\n",
    "        k, *working_var= text\n",
    "    finally:\n",
    "        file.close()\n",
    "    return k, working_var\n",
    "practikum4('Пракутикум4.txt')"
   ]
  },
  {
   "cell_type": "code",
   "execution_count": null,
   "id": "78f22184",
   "metadata": {},
   "outputs": [],
   "source": []
  },
  {
   "cell_type": "code",
   "execution_count": null,
   "id": "289e5012",
   "metadata": {},
   "outputs": [],
   "source": []
  }
 ],
 "metadata": {
  "kernelspec": {
   "display_name": "Python 3 (ipykernel)",
   "language": "python",
   "name": "python3"
  },
  "language_info": {
   "codemirror_mode": {
    "name": "ipython",
    "version": 3
   },
   "file_extension": ".py",
   "mimetype": "text/x-python",
   "name": "python",
   "nbconvert_exporter": "python",
   "pygments_lexer": "ipython3",
   "version": "3.9.12"
  }
 },
 "nbformat": 4,
 "nbformat_minor": 5
}
