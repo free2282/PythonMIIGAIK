{
 "cells": [
  {
   "cell_type": "code",
   "execution_count": 1,
   "id": "4bf9568f",
   "metadata": {},
   "outputs": [
    {
     "name": "stdout",
     "output_type": "stream",
     "text": [
      "0\n",
      "1\n",
      "0\n",
      "2\n"
     ]
    }
   ],
   "source": [
    "#1\n",
    "def number1(N):\n",
    "    d = {}\n",
    "    for i in N.split():\n",
    "        if d.get(i, None):\n",
    "            d[i] += 1\n",
    "        else:\n",
    "            d[i] = 1\n",
    "        print(d[i]-1)\n",
    "number1('qwe qwe fge qwe')"
   ]
  },
  {
   "cell_type": "code",
   "execution_count": 9,
   "id": "eff70b5d",
   "metadata": {},
   "outputs": [
    {
     "name": "stdout",
     "output_type": "stream",
     "text": [
      "q w\n",
      "a s\n",
      "z x\n",
      "w\n",
      "q\n"
     ]
    }
   ],
   "source": [
    "#2\n",
    "def number2(N):\n",
    "    d = {}\n",
    "    lst = []\n",
    "    for i in range(N):\n",
    "        first_word, second_word = input().split()\n",
    "        d[first_word] = second_word\n",
    "        d[second_word] = first_word\n",
    "    last_word = str(input())\n",
    "    print(d[last_word])\n",
    "    \n",
    "                  \n",
    "number2(3) "
   ]
  },
  {
   "cell_type": "code",
   "execution_count": 7,
   "id": "e30e814b",
   "metadata": {},
   "outputs": [
    {
     "name": "stdout",
     "output_type": "stream",
     "text": [
      "Abakan 10\n",
      "Abakan 3\n",
      "Moja 3\n",
      "Abakan: 13\n",
      "Moja: 3\n"
     ]
    }
   ],
   "source": [
    "#3\n",
    "def number3(N):\n",
    "    total_sum = {}\n",
    "    for _ in range(N):\n",
    "        candidate, votes = input().split()\n",
    "        total_sum[candidate] = total_sum.get(candidate, 0) + int(votes)\n",
    "    total_sum_sorted = sorted(total_sum.keys())\n",
    "    for key, value in total_sum.items():\n",
    "        print(\"{0}: {1}\".format(key,value))\n",
    "   \n",
    "    \n",
    "number3(3)"
   ]
  },
  {
   "cell_type": "code",
   "execution_count": 46,
   "id": "8f62a022",
   "metadata": {},
   "outputs": [
    {
     "name": "stdout",
     "output_type": "stream",
     "text": [
      "abc\n",
      "abc\n",
      "qwe\n",
      "qwe\n",
      "abc\n"
     ]
    }
   ],
   "source": [
    "#4\n",
    "def number4(N):\n",
    "    d = {}\n",
    "    for i in range(N):\n",
    "        row = input().split()\n",
    "        for word in row:\n",
    "            d[word] = d.get(word, 0) + 1\n",
    "        \n",
    "\n",
    "    max_values = max(d.values())\n",
    "    values = set()\n",
    "    for key in d:\n",
    "        if d[key] == max_values:\n",
    "            values.add(key)\n",
    "    print(sorted(values)[0])\n",
    "number4(4)"
   ]
  },
  {
   "cell_type": "code",
   "execution_count": 1,
   "id": "42a85bd4",
   "metadata": {},
   "outputs": [
    {
     "name": "stdout",
     "output_type": "stream",
     "text": [
      "notepad.exe R X\n",
      "access.log W R\n",
      "logo.gif R\n",
      "httpd.conf X W R\n",
      "Введите число команд\n",
      "5\n",
      "read logo.gif\n",
      "OK\n",
      "write notepad.exe \n",
      "Denied\n",
      "execute logo.gif\n",
      "Denied\n",
      "read access.log \n",
      "OK\n",
      "write access.log\n",
      "OK\n"
     ]
    }
   ],
   "source": [
    "#5.1\n",
    "def number5_1(N):\n",
    "        dict_command = {'R':'read',\n",
    "                       'W':'write',\n",
    "                       'X':'execute',\n",
    "                       }\n",
    "        \n",
    "        lst = []\n",
    "        d = {}\n",
    "        for i in range(N):\n",
    "            file = str(input())\n",
    "            for key in dict_command.keys():\n",
    "                file = file.replace(key, str(dict_command[key]))\n",
    "            file = file.split()\n",
    "            \n",
    "            for i in range(len(file)):\n",
    "                d[file[0]] = set(file[1:])\n",
    "            lst.append(set(file))\n",
    "        lst_command = lst\n",
    "        print('Введите число команд')\n",
    "        count_of_com = int(input())\n",
    "        for j in range(count_of_com):\n",
    "            file = set(str(input()).split())\n",
    "            for i in range(len(lst_command)):\n",
    "                diff_set = file - lst_command[i]\n",
    "                if diff_set == set():\n",
    "                    break\n",
    "            if diff_set == set():\n",
    "                print('OK')\n",
    "                \n",
    "            else:\n",
    "                print('Denied')\n",
    "                \n",
    "number5_1(4)"
   ]
  },
  {
   "cell_type": "code",
   "execution_count": 5,
   "id": "1cc2e9bb",
   "metadata": {},
   "outputs": [
    {
     "name": "stdout",
     "output_type": "stream",
     "text": [
      "RUS Moscow S-P\n",
      "USA Boston Los-A\n",
      "Введите число вводимых городов: \n",
      "2\n",
      "Los-A\n",
      "USA\n",
      "S-P\n",
      "RUS\n"
     ]
    }
   ],
   "source": [
    "#6\n",
    "def number6(N):\n",
    "    d = {}\n",
    "    for i in range(N):\n",
    "        coun, *city = str(input()).split()\n",
    "        for i in city:\n",
    "            m[i] = coun\n",
    "    print('Введите число вводимых городов: ')\n",
    "    for i in range(int(input())):           \n",
    "        print(m[input()] == d):\n",
    "            print('ok')\n",
    "number6(2)"
   ]
  },
  {
   "cell_type": "code",
   "execution_count": 15,
   "id": "05771353",
   "metadata": {},
   "outputs": [
    {
     "name": "stdout",
     "output_type": "stream",
     "text": [
      "hi\n",
      "hi\n",
      "what is your name\n",
      "my name is bond\n",
      "james bond\n",
      "my name is damme \n",
      "van damme\n",
      "claude van damme\n",
      "jean claude van damme\n",
      "damme 4\n",
      "is 3\n",
      "name 3\n",
      "van 3\n",
      "hi 2\n",
      "my 2\n",
      "bond 2\n",
      "claude 2\n",
      "what 1\n",
      "your 1\n",
      "james 1\n",
      "jean 1\n"
     ]
    }
   ],
   "source": [
    "#7\n",
    "def number6(N):\n",
    "    d = {}\n",
    "    for i in range(N):\n",
    "        string = str(input()).split()\n",
    "        for j in string:\n",
    "            if d.get(j,None):\n",
    "                d[j] +=1\n",
    "            else:\n",
    "                d[j] = 1\n",
    "    d = {k: d[k] for k in sorted(d, key=d.get, reverse=True)}\n",
    "    for i in d:\n",
    "        print(i, d.get(i))\n",
    "number6(9)"
   ]
  },
  {
   "cell_type": "code",
   "execution_count": 2,
   "id": "99813959",
   "metadata": {},
   "outputs": [
    {
     "ename": "NameError",
     "evalue": "name 'd' is not defined",
     "output_type": "error",
     "traceback": [
      "\u001b[1;31m---------------------------------------------------------------------------\u001b[0m",
      "\u001b[1;31mNameError\u001b[0m                                 Traceback (most recent call last)",
      "Input \u001b[1;32mIn [2]\u001b[0m, in \u001b[0;36m<cell line: 1>\u001b[1;34m()\u001b[0m\n\u001b[1;32m----> 1\u001b[0m \u001b[38;5;28mprint\u001b[39m(\u001b[43md\u001b[49m\u001b[38;5;241m.\u001b[39mget(\u001b[38;5;124m'\u001b[39m\u001b[38;5;124mqwe\u001b[39m\u001b[38;5;124m'\u001b[39m, \u001b[38;5;28;01mNone\u001b[39;00m))\n",
      "\u001b[1;31mNameError\u001b[0m: name 'd' is not defined"
     ]
    }
   ],
   "source": []
  },
  {
   "cell_type": "code",
   "execution_count": null,
   "id": "10468bed",
   "metadata": {},
   "outputs": [],
   "source": [
    "#5.2\n",
    "#def number5_2(N):\n",
    " #       dict_command = {'R':'read',\n",
    "  #                     'W':'write',\n",
    "   #                    'X':'execute',\n",
    "    #                   }\n",
    "     #   lst_command = []\n",
    "      #  d = {}\n",
    "       # for i in range(N):\n",
    "        #    file, *command = str(input()).split()\n",
    "         #   for j in range(len(command)):\n",
    "          #      for key in dict_command.keys():\n",
    "           #         command[j] = command[j].replace(key, str(dict_command[key]))\n",
    "            #for i in command:\n",
    "             #   d[i] = file\n",
    "            #print('Введите число команд: ')\n",
    "            #for i in range(int(input())):           \n",
    "             #    *enter_command, enter_file, = str(input()).split()\n",
    "              #  if enter_file\n",
    "#number5_2(1)"
   ]
  },
  {
   "cell_type": "code",
   "execution_count": null,
   "id": "792325f5",
   "metadata": {},
   "outputs": [],
   "source": []
  },
  {
   "cell_type": "code",
   "execution_count": null,
   "id": "f205da0a",
   "metadata": {},
   "outputs": [],
   "source": []
  },
  {
   "cell_type": "code",
   "execution_count": null,
   "id": "d25d1a8b",
   "metadata": {},
   "outputs": [],
   "source": []
  },
  {
   "cell_type": "code",
   "execution_count": null,
   "id": "f50b1112",
   "metadata": {},
   "outputs": [],
   "source": []
  },
  {
   "cell_type": "code",
   "execution_count": null,
   "id": "75f42929",
   "metadata": {},
   "outputs": [],
   "source": []
  }
 ],
 "metadata": {
  "kernelspec": {
   "display_name": "Python 3 (ipykernel)",
   "language": "python",
   "name": "python3"
  },
  "language_info": {
   "codemirror_mode": {
    "name": "ipython",
    "version": 3
   },
   "file_extension": ".py",
   "mimetype": "text/x-python",
   "name": "python",
   "nbconvert_exporter": "python",
   "pygments_lexer": "ipython3",
   "version": "3.9.12"
  }
 },
 "nbformat": 4,
 "nbformat_minor": 5
}
