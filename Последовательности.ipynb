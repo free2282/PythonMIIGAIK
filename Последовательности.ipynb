{
 "cells": [
  {
   "cell_type": "code",
   "execution_count": 28,
   "id": "0a15cf80",
   "metadata": {},
   "outputs": [
    {
     "name": "stdout",
     "output_type": "stream",
     "text": [
      "1\n",
      "3\n",
      "9\n"
     ]
    }
   ],
   "source": [
    "#1\n",
    "def number1(N):\n",
    "    lst = [int(N) for N in N.split()]\n",
    "    for i in range(len(lst)):\n",
    "        if (lst[i]%2==1):\n",
    "            print(lst[i])\n",
    "        \n",
    "number1('1 2 3 4 9')"
   ]
  },
  {
   "cell_type": "code",
   "execution_count": 29,
   "id": "5fb71df0",
   "metadata": {},
   "outputs": [
    {
     "name": "stdout",
     "output_type": "stream",
     "text": [
      "2\n",
      "3\n",
      "4\n"
     ]
    }
   ],
   "source": [
    "#2\n",
    "def number2(N):\n",
    "    lst = [int(N) for N in N.split()]\n",
    "    for i in range(1, len(lst)):\n",
    "        if (lst[i]>lst[i-1]):\n",
    "            print(lst[i])\n",
    "            \n",
    "            \n",
    "number2('1 2 3 4')"
   ]
  },
  {
   "cell_type": "code",
   "execution_count": 30,
   "id": "f1874505",
   "metadata": {},
   "outputs": [
    {
     "name": "stdout",
     "output_type": "stream",
     "text": [
      "[2, 1, 4, 3, 5]\n"
     ]
    }
   ],
   "source": [
    "#3\n",
    "def number3(N):\n",
    "    lst = [int(N) for N in N.split()]\n",
    "    for i in range(0, len(lst)-1, 2):\n",
    "        lst[i], lst[i+1] = lst[i+1], lst[i]\n",
    "    print(lst)\n",
    "number3('1 2 3 4 5') "
   ]
  },
  {
   "cell_type": "code",
   "execution_count": 31,
   "id": "196dcdbd",
   "metadata": {},
   "outputs": [
    {
     "name": "stdout",
     "output_type": "stream",
     "text": [
      "[5, 2, 3, 4, 1]\n"
     ]
    }
   ],
   "source": [
    "#4\n",
    "def number4(N):\n",
    "    lst = [int(N) for N in N.split()]\n",
    "    min_num = min(lst)\n",
    "    max_num = max(lst)\n",
    "    lst[lst.index(max_num)], lst[lst.index(min_num)] = lst[lst.index(min_num)], lst[lst.index(max_num)]  \n",
    "    print(lst)\n",
    "number4('1 2 3 4 5') "
   ]
  },
  {
   "cell_type": "code",
   "execution_count": 32,
   "id": "57ef4a67",
   "metadata": {},
   "outputs": [
    {
     "name": "stdout",
     "output_type": "stream",
     "text": [
      "[1, 3, 2] [4, 3, 2]\n",
      "2\n"
     ]
    }
   ],
   "source": [
    "#5\n",
    "def number5(N, M):\n",
    "    lst1 = [int(N) for N in N.split()]\n",
    "    lst2 = [int(M) for M in M.split()]\n",
    "    print(lst1, lst2)\n",
    "    temp_list = []\n",
    "    for i in range(len(lst1)):\n",
    "        if lst1[i] in lst2:\n",
    "            temp_list.append(lst1[i])\n",
    "    print(len(temp_list))\n",
    "          \n",
    "number5('1 3 2', '4 3 2')"
   ]
  },
  {
   "cell_type": "code",
   "execution_count": 33,
   "id": "fda83e3e",
   "metadata": {},
   "outputs": [
    {
     "name": "stdout",
     "output_type": "stream",
     "text": [
      "[1, 3, 2] [4, 3, 2]\n",
      "[3, 2]\n"
     ]
    }
   ],
   "source": [
    "#6\n",
    "def number6(N, M):\n",
    "    lst1 = [int(N) for N in N.split()]\n",
    "    lst2 = [int(M) for M in M.split()]\n",
    "    print(lst1, lst2)\n",
    "    temp_list = []\n",
    "    for i in range(len(lst1)):\n",
    "        if lst1[i] in lst2:\n",
    "            temp_list.append(lst1[i])\n",
    "    print(temp_list)\n",
    "number6('1 3 2', '4 3 2')"
   ]
  },
  {
   "cell_type": "code",
   "execution_count": 35,
   "id": "5673eed9",
   "metadata": {},
   "outputs": [
    {
     "name": "stdout",
     "output_type": "stream",
     "text": [
      "НЕТ\n",
      "НЕТ\n",
      "НЕТ\n",
      "ДА\n",
      "ДА\n",
      "НЕТ\n"
     ]
    }
   ],
   "source": [
    "#7\n",
    "def number7(N):\n",
    "    lst = [int(N) for N in N.split()]\n",
    "    temp = []\n",
    "    for i in range(len(lst)):\n",
    "        if lst[i] not in temp:\n",
    "            temp.append(lst[i])\n",
    "            print('НЕТ')\n",
    "        else:\n",
    "            print('ДА')\n",
    "number7('1 2 3 2 3 4')"
   ]
  },
  {
   "cell_type": "code",
   "execution_count": 68,
   "id": "caedbbe2",
   "metadata": {},
   "outputs": [
    {
     "name": "stdout",
     "output_type": "stream",
     "text": [
      "r\n",
      "a\n",
      "Abrak\n",
      "Abrakadab\n",
      "Arkdba\n",
      "baaar\n",
      "arbadakarbA\n",
      "arbadakarbA\n"
     ]
    }
   ],
   "source": [
    "#8\n",
    "def number8(N):\n",
    "    lst = [N for N in ' '.join(N).split()]\n",
    "    \n",
    "    print(lst[2])\n",
    "    \n",
    "    print(lst[-1])\n",
    "    \n",
    "    temp_lst = \"\".join(lst[0:5])\n",
    "    print(temp_lst)\n",
    "    \n",
    "    temp_lst = \"\".join(lst[:-2])\n",
    "    print(temp_lst)\n",
    "    \n",
    "    temp_lst = []\n",
    "    for i in range(len(lst)):\n",
    "        if i%2==0:\n",
    "            temp_lst.append(lst[i])\n",
    "    temp_lst = \"\".join(temp_lst)\n",
    "    print(temp_lst)\n",
    "    \n",
    "    temp_lst = []\n",
    "    for i in range(len(lst)):\n",
    "        if i%2==1:\n",
    "            temp_lst.append(lst[i])\n",
    "    temp_lst = \"\".join(temp_lst)\n",
    "    print(temp_lst)\n",
    "    \n",
    "    temp_lst = lst\n",
    "    temp_lst.reverse()\n",
    "    temp_lst = \"\".join(temp_lst)\n",
    "    print(temp_lst)\n",
    "    \n",
    "    temp_lst2 = lst\n",
    "    temp_lst2.reverse()\n",
    "    temp_lst2 = \"\".join(temp_lst)\n",
    "    te\n",
    "    for i in range(0, len(temp_lst2), 2):\n",
    "        temp_lst2.append(temp_lst2[i])\n",
    "        \n",
    "        \n",
    "        \n",
    "number8('Abrakadabra')"
   ]
  },
  {
   "cell_type": "code",
   "execution_count": 77,
   "id": "b5eb6d33",
   "metadata": {},
   "outputs": [
    {
     "name": "stdout",
     "output_type": "stream",
     "text": [
      "DQABC\n"
     ]
    }
   ],
   "source": [
    "#9\n",
    "def number9(N):\n",
    "    print(N[(len(N) + 1) // 2:] + N[:(len(N) + 1) // 2])\n",
    "\n",
    "number9('ABCDQ')"
   ]
  },
  {
   "cell_type": "code",
   "execution_count": 141,
   "id": "a1e29b81",
   "metadata": {},
   "outputs": [
    {
     "name": "stdout",
     "output_type": "stream",
     "text": [
      "wefq\n",
      "<class 'str'>\n"
     ]
    }
   ],
   "source": [
    "#10\n",
    "def number10(N):\n",
    "    N = N[:N.find('h')] + N[N.rfind('h') + 1:]\n",
    "    print(N)\n",
    "    print(type(N))\n",
    "number10('whfehefq')"
   ]
  },
  {
   "cell_type": "code",
   "execution_count": 147,
   "id": "4be523c6",
   "metadata": {},
   "outputs": [
    {
     "name": "stdout",
     "output_type": "stream",
     "text": [
      "qhiuytrewho\n"
     ]
    }
   ],
   "source": [
    "#11\n",
    "def number11(N):\n",
    "    a = N[:N.find('h')] \n",
    "    b = N[N.find('h'):N.rfind('h') + 1]\n",
    "    c = N[N.rfind('h') + 1:]\n",
    "    N = a + b[::-1] + c\n",
    "    print(N)\n",
    "number11('qhwertyuiho')"
   ]
  },
  {
   "cell_type": "code",
   "execution_count": 153,
   "id": "2b80e278",
   "metadata": {},
   "outputs": [
    {
     "name": "stdout",
     "output_type": "stream",
     "text": [
      "eheqwHqweHewqeheqwhqwehewqh\n"
     ]
    }
   ],
   "source": [
    "#12\n",
    "def number12(N):\n",
    "\n",
    "    a = N[:N.find('h') + 1] \n",
    "    b = N[N.find('h') + 1:N.rfind('h')]\n",
    "    c = N[N.rfind('h'):]\n",
    "    N = a + b.replace('h', 'H') + N\n",
    "    print(N)\n",
    "number12('eheqwhqwehewqh')"
   ]
  },
  {
   "cell_type": "code",
   "execution_count": null,
   "id": "813731fe",
   "metadata": {},
   "outputs": [],
   "source": []
  }
 ],
 "metadata": {
  "kernelspec": {
   "display_name": "Python 3 (ipykernel)",
   "language": "python",
   "name": "python3"
  },
  "language_info": {
   "codemirror_mode": {
    "name": "ipython",
    "version": 3
   },
   "file_extension": ".py",
   "mimetype": "text/x-python",
   "name": "python",
   "nbconvert_exporter": "python",
   "pygments_lexer": "ipython3",
   "version": "3.9.12"
  }
 },
 "nbformat": 4,
 "nbformat_minor": 5
}
