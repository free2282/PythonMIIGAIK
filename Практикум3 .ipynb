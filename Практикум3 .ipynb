{
 "cells": [
  {
   "cell_type": "code",
   "execution_count": 56,
   "id": "b0a9777d",
   "metadata": {},
   "outputs": [
    {
     "name": "stdout",
     "output_type": "stream",
     "text": [
      "Уникальные слова:  [\"'cause\", '(divided', '(united', '1]', '2]', '[chorus]', '[pre-chorus]', '[verse', 'a', 'all', 'also', 'and', 'anything?', 'are', 'battered', 'be', 'before', 'believe', 'blood', 'break,', 'bring', 'but', 'can', 'changing', 'children', 'crooked', 'cunt,', 'death', 'deluded,', 'divided', 'do', 'do?', \"don't\", 'drown', 'every', 'everything', 'exactly', 'fail', 'fail)', 'fail,', 'fall', 'fall)', 'fed', 'fingers', 'fool', 'for', 'fuck', 'fucked', 'fucked,', 'get', 'give', 'gonna', 'guard', 'horizon', 'i', \"i'm\", 'if', 'ill-informed,', 'in', 'is', 'it', 'just', 'kick', 'like', 'making', 'me', 'middle', 'might', 'minds', 'much', 'no', 'nothing', 'of', 'off', 'oh,', 'ones', 'onto', 'our', 'out', 'peaceful', 'preach', 'pricks', 'question', 'really', 'revolution,', 'say', 'screens', 'seen', 'self-serving', 'shit', 'sick', 'single', 'so', 'stands', 'static', 'streets', 'swallowing', 'that', 'that,', 'the', 'there', 'thing', 'think', 'tip,', 'to', 'united', 'up', 'war', 'washed', \"we'll\", \"we're\", 'well,', 'what', 'will', 'with', 'without', 'words', 'world', 'worse', 'you', \"you're\", 'young', 'your']\n",
      "Уникальные слова:  [\"'cause\", '(divided', '(united', '1]', '2]', '[chorus]', '[pre-chorus]', '[verse', 'a', 'all', 'also', 'and', 'anything?', 'are', 'battered', 'be', 'before', 'believe', 'blood', 'break,', 'bring', 'but', 'can', 'changing', 'children', 'crooked', 'cunt,', 'death', 'deluded,', 'divided', 'do', 'do?', \"don't\", 'drown', 'every', 'everything', 'exactly', 'fail', 'fail)', 'fail,', 'fall', 'fall)', 'fed', 'fingers', 'fool', 'for', 'fuck', 'fucked', 'fucked,', 'get', 'give', 'gonna', 'guard', 'horizon', 'i', \"i'm\", 'if', 'ill-informed,', 'in', 'is', 'it', 'just', 'kick', 'like', 'making', 'me', 'middle', 'might', 'minds', 'much', 'no', 'nothing', 'of', 'off', 'oh,', 'ones', 'onto', 'our', 'out', 'peaceful', 'preach', 'pricks', 'question', 'really', 'revolution,', 'say', 'screens', 'seen', 'self-serving', 'shit', 'sick', 'single', 'so', 'stands', 'static', 'streets', 'swallowing', 'that', 'that,', 'the', 'there', 'thing', 'think', 'tip,', 'to', 'united', 'up', 'war', 'washed', \"we'll\", \"we're\", 'well,', 'what', 'will', 'with', 'without', 'words', 'world', 'worse', 'you', \"you're\", 'young', 'your']\n"
     ]
    }
   ],
   "source": [
    "def read_file(Name):\n",
    "    d = {}\n",
    "    l = []\n",
    "    file = open(Name, 'r+', encoding='UTF-8')\n",
    "    try:\n",
    "        text = file.read()\n",
    "        text = text.lower().split()\n",
    "        for word in text:\n",
    "            if word in d:\n",
    "                d[word] = d[word] + 1\n",
    "            else:\n",
    "                d[word] = 1\n",
    "        for key, value in sorted(d.items()):\n",
    "            l.append(key)\n",
    "        print('Уникальные слова: ',l)\n",
    "    finally:\n",
    "        file.close()\n",
    "    return l\n",
    "    \n",
    "def save_file(Name, l):\n",
    "    d = {}\n",
    "    file = open(Name, 'r+', encoding='UTF-8')\n",
    "    text = file.read()\n",
    "    text = text.lower().split()\n",
    "    try:\n",
    "        for word in text:\n",
    "            if word in d:\n",
    "                d[word] = d[word] + 1\n",
    "            else:\n",
    "                d[word] = 1\n",
    "        file.write('\\n')\n",
    "        file.write(f'Всего уникальных слов: {len(d)}\\n')\n",
    "        for i in l:\n",
    "            file.write(i)\n",
    "            file.write('\\n')\n",
    "    finally:\n",
    "        file.close()\n",
    "    \n",
    "    \n",
    "    \n",
    "    \n",
    "    \n",
    "    \n",
    "    \n",
    "read_file('data.txt')\n",
    "save_file('data.txt', read_file('data.txt'))"
   ]
  },
  {
   "cell_type": "code",
   "execution_count": null,
   "id": "cdd9a249",
   "metadata": {},
   "outputs": [],
   "source": []
  },
  {
   "cell_type": "code",
   "execution_count": null,
   "id": "8f5d6dc1",
   "metadata": {},
   "outputs": [],
   "source": []
  },
  {
   "cell_type": "code",
   "execution_count": null,
   "id": "79b2894a",
   "metadata": {},
   "outputs": [],
   "source": []
  },
  {
   "cell_type": "code",
   "execution_count": null,
   "id": "431f7ec2",
   "metadata": {},
   "outputs": [],
   "source": []
  },
  {
   "cell_type": "code",
   "execution_count": null,
   "id": "127a1f38",
   "metadata": {},
   "outputs": [],
   "source": []
  },
  {
   "cell_type": "code",
   "execution_count": null,
   "id": "476e875c",
   "metadata": {},
   "outputs": [],
   "source": []
  }
 ],
 "metadata": {
  "kernelspec": {
   "display_name": "Python 3 (ipykernel)",
   "language": "python",
   "name": "python3"
  },
  "language_info": {
   "codemirror_mode": {
    "name": "ipython",
    "version": 3
   },
   "file_extension": ".py",
   "mimetype": "text/x-python",
   "name": "python",
   "nbconvert_exporter": "python",
   "pygments_lexer": "ipython3",
   "version": "3.9.12"
  }
 },
 "nbformat": 4,
 "nbformat_minor": 5
}
