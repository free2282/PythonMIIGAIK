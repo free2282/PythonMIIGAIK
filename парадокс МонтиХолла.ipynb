{
 "cells": [
  {
   "cell_type": "code",
   "execution_count": 54,
   "id": "b0a9777d",
   "metadata": {},
   "outputs": [
    {
     "name": "stdout",
     "output_type": "stream",
     "text": [
      "Первый опыт: 0.37\n",
      "Второй опыт:  0.688\n"
     ]
    }
   ],
   "source": [
    "import random\n",
    "def first_try(var):\n",
    "    prize_first_var = 0\n",
    "    N = 100\n",
    "    for i in range(N):\n",
    "        random.shuffle(var)\n",
    "        end = var[random.randrange(len(var))]\n",
    "        if end == 1:\n",
    "            prize_first_var +=1\n",
    "    print(\"Первый опыт:\", prize_first_var/N)\n",
    "\n",
    "    \n",
    "def second_try(var):\n",
    "    N = 1000\n",
    "    prize_second_var = 0\n",
    "    for _ in range(N):\n",
    "        random.shuffle(var)\n",
    "        first_action = random.randrange(len(var))\n",
    "        for i in range(len(var)):\n",
    "            if i != first_action and var[i] == 0:\n",
    "                second_action = i\n",
    "                break\n",
    "        for i in range(len(var)):\n",
    "            if i != first_action and i != second_action:\n",
    "                end = var[i]\n",
    "                if end == 1:\n",
    "                    prize_second_var +=1\n",
    "    print('Второй опыт: ', prize_second_var/N)\n",
    "first_try([1, 0, 0])\n",
    "second_try([1, 0, 0])"
   ]
  },
  {
   "cell_type": "code",
   "execution_count": null,
   "id": "cdd9a249",
   "metadata": {},
   "outputs": [],
   "source": [
    "\n",
    "    "
   ]
  },
  {
   "cell_type": "code",
   "execution_count": null,
   "id": "8f5d6dc1",
   "metadata": {},
   "outputs": [],
   "source": []
  },
  {
   "cell_type": "code",
   "execution_count": 21,
   "id": "79b2894a",
   "metadata": {},
   "outputs": [
    {
     "data": {
      "text/plain": [
       "1"
      ]
     },
     "execution_count": 21,
     "metadata": {},
     "output_type": "execute_result"
    }
   ],
   "source": []
  },
  {
   "cell_type": "code",
   "execution_count": 22,
   "id": "431f7ec2",
   "metadata": {},
   "outputs": [
    {
     "data": {
      "text/plain": [
       "0"
      ]
     },
     "execution_count": 22,
     "metadata": {},
     "output_type": "execute_result"
    }
   ],
   "source": []
  },
  {
   "cell_type": "code",
   "execution_count": 44,
   "id": "127a1f38",
   "metadata": {},
   "outputs": [
    {
     "name": "stdout",
     "output_type": "stream",
     "text": [
      "0\n"
     ]
    }
   ],
   "source": []
  },
  {
   "cell_type": "code",
   "execution_count": null,
   "id": "476e875c",
   "metadata": {},
   "outputs": [],
   "source": []
  }
 ],
 "metadata": {
  "kernelspec": {
   "display_name": "Python 3 (ipykernel)",
   "language": "python",
   "name": "python3"
  },
  "language_info": {
   "codemirror_mode": {
    "name": "ipython",
    "version": 3
   },
   "file_extension": ".py",
   "mimetype": "text/x-python",
   "name": "python",
   "nbconvert_exporter": "python",
   "pygments_lexer": "ipython3",
   "version": "3.9.12"
  }
 },
 "nbformat": 4,
 "nbformat_minor": 5
}
