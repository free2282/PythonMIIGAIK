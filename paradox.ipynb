{
 "cells": [
  {
   "cell_type": "code",
   "execution_count": 6,
   "id": "35150354",
   "metadata": {},
   "outputs": [
    {
     "name": "stdout",
     "output_type": "stream",
     "text": [
      "0.463\n"
     ]
    }
   ],
   "source": [
    "import math\n",
    "def birthday_paradox1(N):\n",
    "    day = 28 * 12\n",
    "    var = math.factorial(day)\n",
    "    b =  (pow(day, N))\n",
    "    c = math.factorial(day-N)\n",
    "    var = var/c\n",
    "    var = var/b\n",
    "    print(round(var,3))\n",
    "birthday_paradox1(23)"
   ]
  },
  {
   "cell_type": "code",
   "execution_count": 9,
   "id": "d9b96c7e",
   "metadata": {},
   "outputs": [
    {
     "name": "stdout",
     "output_type": "stream",
     "text": [
      "60.0%\n"
     ]
    }
   ],
   "source": [
    "import math\n",
    "def birthday_paradox2(N):\n",
    "    year = 12 * 28\n",
    "    var_other = 1\n",
    "    for i in range(1, N+1):\n",
    "        var_this_person = i / year\n",
    "        var_other *= (1 - var_this_person)\n",
    "        var = 1 - var_other\n",
    "        if i == (N):\n",
    "            procent = int \n",
    "            procent = round(var,2) * 100\n",
    "            print(f\"{procent}%\")\n",
    "    \n",
    "birthday_paradox2(24)\n"
   ]
  },
  {
   "cell_type": "code",
   "execution_count": 10,
   "id": "ef7d4091",
   "metadata": {},
   "outputs": [
    {
     "name": "stdout",
     "output_type": "stream",
     "text": [
      "Первый опыт: 0.328\n",
      "Второй опыт:  0.694\n"
     ]
    }
   ],
   "source": [
    "import random\n",
    "def monthy_hall(var):\n",
    "    prize_first_var = 0\n",
    "    N = 1000\n",
    "    for i in range(N):\n",
    "        random.shuffle(var)\n",
    "        end = var[random.randrange(len(var))]\n",
    "        if end == 1:\n",
    "            prize_first_var +=1\n",
    "    print(\"Первый опыт:\", prize_first_var/N)\n",
    "\n",
    "    \n",
    "\n",
    "    N = 1000\n",
    "    prize_second_var = 0\n",
    "    for _ in range(N):\n",
    "        random.shuffle(var)\n",
    "        first_action = random.randrange(len(var))\n",
    "        for i in range(len(var)):\n",
    "            if i != first_action and var[i] == 0:\n",
    "                second_action = i\n",
    "                break\n",
    "        for i in range(len(var)):\n",
    "            if i != first_action and i != second_action:\n",
    "                end = var[i]\n",
    "                if end == 1:\n",
    "                    prize_second_var +=1\n",
    "    print('Второй опыт: ', prize_second_var/N)\n",
    "monthy_hall([1, 0, 0])"
   ]
  },
  {
   "cell_type": "code",
   "execution_count": null,
   "id": "363009a1",
   "metadata": {},
   "outputs": [],
   "source": [
    "\n"
   ]
  },
  {
   "cell_type": "code",
   "execution_count": null,
   "id": "cf5e850a",
   "metadata": {},
   "outputs": [],
   "source": []
  },
  {
   "cell_type": "code",
   "execution_count": null,
   "id": "c2f372d2",
   "metadata": {},
   "outputs": [],
   "source": []
  },
  {
   "cell_type": "code",
   "execution_count": null,
   "id": "6e61d87f",
   "metadata": {},
   "outputs": [],
   "source": []
  },
  {
   "cell_type": "code",
   "execution_count": null,
   "id": "c995167a",
   "metadata": {},
   "outputs": [],
   "source": []
  }
 ],
 "metadata": {
  "kernelspec": {
   "display_name": "Python 3 (ipykernel)",
   "language": "python",
   "name": "python3"
  },
  "language_info": {
   "codemirror_mode": {
    "name": "ipython",
    "version": 3
   },
   "file_extension": ".py",
   "mimetype": "text/x-python",
   "name": "python",
   "nbconvert_exporter": "python",
   "pygments_lexer": "ipython3",
   "version": "3.9.12"
  }
 },
 "nbformat": 4,
 "nbformat_minor": 5
}
