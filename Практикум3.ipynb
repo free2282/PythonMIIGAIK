{
 "cells": [
  {
   "cell_type": "code",
   "execution_count": 1,
   "id": "b0a9777d",
   "metadata": {},
   "outputs": [],
   "source": [
    "def read_file(Name):\n",
    "    d = {}\n",
    "    file = open(Name, 'r', encoding='utf-8')\n",
    "    try:\n",
    "        text = file.read()\n",
    "        text = text.lower()\n",
    "        text = text.split()    \n",
    "    finally:\n",
    "        file.close()\n",
    "    for word in text:\n",
    "        if word in d:\n",
    "            d[word] = d[word] + 1\n",
    "        else:\n",
    "            d[word] = 1\n",
    "    new_file = open('Практикум3.2.txt','w', encoding='utf-8')\n",
    "    try:\n",
    "        for key, value in sorted(d.items()):\n",
    "            new_file.write(\"{0}: {1}\\n\".format(key,value))\n",
    "        \n",
    "    finally:\n",
    "        new_file.close()\n",
    "    \n",
    "    \n",
    "read_file('Практикум3.1.txt')"
   ]
  },
  {
   "cell_type": "code",
   "execution_count": null,
   "id": "cdd9a249",
   "metadata": {},
   "outputs": [],
   "source": []
  },
  {
   "cell_type": "code",
   "execution_count": null,
   "id": "8f5d6dc1",
   "metadata": {},
   "outputs": [],
   "source": []
  },
  {
   "cell_type": "code",
   "execution_count": null,
   "id": "79b2894a",
   "metadata": {},
   "outputs": [],
   "source": []
  },
  {
   "cell_type": "code",
   "execution_count": null,
   "id": "431f7ec2",
   "metadata": {},
   "outputs": [],
   "source": []
  },
  {
   "cell_type": "code",
   "execution_count": null,
   "id": "127a1f38",
   "metadata": {},
   "outputs": [],
   "source": []
  },
  {
   "cell_type": "code",
   "execution_count": null,
   "id": "476e875c",
   "metadata": {},
   "outputs": [],
   "source": []
  }
 ],
 "metadata": {
  "kernelspec": {
   "display_name": "Python 3 (ipykernel)",
   "language": "python",
   "name": "python3"
  },
  "language_info": {
   "codemirror_mode": {
    "name": "ipython",
    "version": 3
   },
   "file_extension": ".py",
   "mimetype": "text/x-python",
   "name": "python",
   "nbconvert_exporter": "python",
   "pygments_lexer": "ipython3",
   "version": "3.9.12"
  }
 },
 "nbformat": 4,
 "nbformat_minor": 5
}
